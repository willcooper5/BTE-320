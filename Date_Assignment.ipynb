{
  "nbformat": 4,
  "nbformat_minor": 0,
  "metadata": {
    "colab": {
      "provenance": [],
      "authorship_tag": "ABX9TyNh5CSuuS/575YAeuNY+GmJ",
      "include_colab_link": true
    },
    "kernelspec": {
      "name": "python3",
      "display_name": "Python 3"
    },
    "language_info": {
      "name": "python"
    }
  },
  "cells": [
    {
      "cell_type": "markdown",
      "metadata": {
        "id": "view-in-github",
        "colab_type": "text"
      },
      "source": [
        "<a href=\"https://colab.research.google.com/github/willcooper5/BTE-320/blob/main/Date_Assignment.ipynb\" target=\"_parent\"><img src=\"https://colab.research.google.com/assets/colab-badge.svg\" alt=\"Open In Colab\"/></a>"
      ]
    },
    {
      "cell_type": "code",
      "execution_count": 5,
      "metadata": {
        "colab": {
          "base_uri": "https://localhost:8080/"
        },
        "id": "DoCxIduttdKL",
        "outputId": "587c6a85-745a-44c3-de0d-6d8033cde4a4"
      },
      "outputs": [
        {
          "output_type": "stream",
          "name": "stdout",
          "text": [
            "This\n",
            "This is another test\n",
            "This is another test\n"
          ]
        }
      ],
      "source": [
        "s = 'This is another test'\n",
        "this_s = s[:4]\n",
        "print(this_s)\n",
        "test_s = s[:]\n",
        "print(test_s)\n",
        "print(test_s)"
      ]
    },
    {
      "cell_type": "code",
      "source": [
        "date = input('Enter date (MM/DD/YYYY): ')\n",
        "month = date[:2]\n",
        "print('month = ',month)\n",
        "day = date[3:5]\n",
        "print('day = ',day)\n",
        "year = date[6:]\n",
        "print('year = ',year)"
      ],
      "metadata": {
        "colab": {
          "base_uri": "https://localhost:8080/"
        },
        "id": "63fNwNdWwe9o",
        "outputId": "7cc95a21-75f9-48bb-fd0e-e756a2aac78b"
      },
      "execution_count": 14,
      "outputs": [
        {
          "output_type": "stream",
          "name": "stdout",
          "text": [
            "Enter date (MM/DD/YYYY): 02/21/2024\n",
            "month =  02\n",
            "day =  21\n",
            "year =  2024\n"
          ]
        }
      ]
    }
  ]
}