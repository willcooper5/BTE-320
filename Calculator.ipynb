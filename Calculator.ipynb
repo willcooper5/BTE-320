{
  "nbformat": 4,
  "nbformat_minor": 0,
  "metadata": {
    "colab": {
      "provenance": [],
      "authorship_tag": "ABX9TyPvV/HUnbt6/1f2VgjbY2qK",
      "include_colab_link": true
    },
    "kernelspec": {
      "name": "python3",
      "display_name": "Python 3"
    },
    "language_info": {
      "name": "python"
    }
  },
  "cells": [
    {
      "cell_type": "markdown",
      "metadata": {
        "id": "view-in-github",
        "colab_type": "text"
      },
      "source": [
        "<a href=\"https://colab.research.google.com/github/willcooper5/BTE-320/blob/main/Calculator.ipynb\" target=\"_parent\"><img src=\"https://colab.research.google.com/assets/colab-badge.svg\" alt=\"Open In Colab\"/></a>"
      ]
    },
    {
      "cell_type": "code",
      "execution_count": null,
      "metadata": {
        "id": "CVxNCDI1bmxa"
      },
      "outputs": [],
      "source": [
        "Calculator:\n",
        "  once it starts it cannot stop usless uesr chooses to (infinite loop)\n",
        "  all numerical operators will be used (+,-,*,/,//,%,**)\n",
        "  user provides numbers (2) and operator (1) from keyboard\n",
        "    calculator displays results only\n",
        "  numbers: int or float; operator: str\n",
        "  calculator keeps asking for numbers until told to stop\n"
      ]
    },
    {
      "cell_type": "code",
      "source": [
        "while True:\n",
        "  question = input('Would you like to use the calculator (y/n): ')\n",
        "  if question == 'n':\n",
        "    break\n",
        "  elif question =='y':\n",
        "    x = int(input('Enter any number: '))\n",
        "    operator = input('Enter an operator(+,-,*,/,//,%,**): ')\n",
        "    y = int(input('Enter another number: '))\n",
        "    if operator == '+':\n",
        "      print(x+y)\n",
        "    elif operator == '-':\n",
        "      print(x-y)\n",
        "    elif operator == '*':\n",
        "      print(x*y)\n",
        "    elif operator == '/':\n",
        "      print(x/y)\n",
        "    elif operator == '//':\n",
        "      print(x//y)\n",
        "    elif operator == '%':\n",
        "      print(x%y)\n",
        "    elif operator == '**':\n",
        "      print(x**y)\n"
      ],
      "metadata": {
        "colab": {
          "base_uri": "https://localhost:8080/"
        },
        "id": "_y_IiJzWdF3d",
        "outputId": "aca4303b-a4cf-42a3-e77c-e6beb51af799"
      },
      "execution_count": 1,
      "outputs": [
        {
          "name": "stdout",
          "output_type": "stream",
          "text": [
            "Would you like to use the calculator (y/n): y\n",
            "Enter any number: 4\n",
            "Enter an operator(+,-,*,/,//,%,**): +\n",
            "Enter another number: 4\n",
            "8\n",
            "Would you like to use the calculator (y/n): 7\n",
            "Would you like to use the calculator (y/n): y\n",
            "Enter any number: 8\n",
            "Enter an operator(+,-,*,/,//,%,**): **\n",
            "Enter another number: 83\n",
            "904625697166532776746648320380374280103671755200316906558262375061821325312\n",
            "Would you like to use the calculator (y/n): n\n"
          ]
        }
      ]
    }
  ]
}