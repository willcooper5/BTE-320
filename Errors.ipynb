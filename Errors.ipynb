{
  "nbformat": 4,
  "nbformat_minor": 0,
  "metadata": {
    "colab": {
      "provenance": [],
      "authorship_tag": "ABX9TyMt8RpjH072EOVgrOTyVfZt",
      "include_colab_link": true
    },
    "kernelspec": {
      "name": "python3",
      "display_name": "Python 3"
    },
    "language_info": {
      "name": "python"
    }
  },
  "cells": [
    {
      "cell_type": "markdown",
      "metadata": {
        "id": "view-in-github",
        "colab_type": "text"
      },
      "source": [
        "<a href=\"https://colab.research.google.com/github/willcooper5/BTE-320/blob/main/Errors.ipynb\" target=\"_parent\"><img src=\"https://colab.research.google.com/assets/colab-badge.svg\" alt=\"Open In Colab\"/></a>"
      ]
    },
    {
      "cell_type": "code",
      "execution_count": null,
      "metadata": {
        "colab": {
          "base_uri": "https://localhost:8080/"
        },
        "id": "5mOmztcekdBU",
        "outputId": "ee9b5172-0c5a-4394-d8ac-11b290ed73a2"
      },
      "outputs": [
        {
          "output_type": "stream",
          "name": "stdout",
          "text": [
            "Enter the numerator: 9\n",
            "Enter the denominator: 8\n",
            "1.125\n",
            "Program ends.\n",
            "Enter index: 2\n",
            "3\n"
          ]
        }
      ],
      "source": [
        "try:\n",
        "  a = float(input('Enter the numerator: '))\n",
        "  b = float(input('Enter the denominator: '))\n",
        "  print(a/b)\n",
        "  print('Program ends.')\n",
        "except ZeroDivisionError:\n",
        "  print('Division by zero not allowed!')\n",
        "except ValueError:\n",
        "  print('Input values must be numeric!')\n",
        "except TypeError:\n",
        "  print('Division with incompatible types!')\n",
        "except:\n",
        "  print('Unknown error!')\n",
        "\n",
        "try:\n",
        "  l = [1,2,3,4,5]\n",
        "  idx = int(input('Enter index: '))\n",
        "  print(l[idx])\n",
        "except IndexError:\n",
        "  print('Unknown error!')"
      ]
    },
    {
      "cell_type": "code",
      "source": [
        "def avg(alist):\n",
        "  try:\n",
        "    return sum(alist) / len(alist)\n",
        "  except ZeroDivisionError:\n",
        "    print('The list needs 1 or more numbers!')\n",
        "    return []\n",
        "  except TypeError:\n",
        "    print('Only numbers can be in the list!')\n",
        "    return float('nan')\n",
        "  else:\n",
        "    print('All Good!')\n",
        "  finally:\n",
        "    print('This will be displayed always')\n",
        "\n",
        "\n",
        "avg([1, 2, 3])"
      ],
      "metadata": {
        "colab": {
          "base_uri": "https://localhost:8080/"
        },
        "id": "zlWXoNLi2N7Z",
        "outputId": "f2a490d1-0a84-48b7-e0f1-ebbd4b6dab40"
      },
      "execution_count": 38,
      "outputs": [
        {
          "output_type": "stream",
          "name": "stdout",
          "text": [
            "This will be displayed always\n"
          ]
        },
        {
          "output_type": "execute_result",
          "data": {
            "text/plain": [
              "2.0"
            ]
          },
          "metadata": {},
          "execution_count": 38
        }
      ]
    }
  ]
}