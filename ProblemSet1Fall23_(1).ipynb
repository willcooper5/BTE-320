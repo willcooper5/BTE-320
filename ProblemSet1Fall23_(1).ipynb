{
  "nbformat": 4,
  "nbformat_minor": 0,
  "metadata": {
    "colab": {
      "provenance": [],
      "include_colab_link": true
    },
    "kernelspec": {
      "name": "python3",
      "display_name": "Python 3"
    },
    "language_info": {
      "name": "python"
    }
  },
  "cells": [
    {
      "cell_type": "markdown",
      "metadata": {
        "id": "view-in-github",
        "colab_type": "text"
      },
      "source": [
        "<a href=\"https://colab.research.google.com/github/willcooper5/BTE-320/blob/main/ProblemSet1Fall23_(1).ipynb\" target=\"_parent\"><img src=\"https://colab.research.google.com/assets/colab-badge.svg\" alt=\"Open In Colab\"/></a>"
      ]
    },
    {
      "cell_type": "markdown",
      "source": [
        "# Problem Set 2"
      ],
      "metadata": {
        "id": "mqKVIuY-mxNU"
      }
    },
    {
      "cell_type": "markdown",
      "source": [
        "## Assignment 1: Quality Control (7 points)\n",
        "\n",
        "A quality control manager would like to find the average weight of a list of weights. Prior experience indicates that the first two measures are atypical, and the practice is to exclude these from the average calculation.\n",
        "\n",
        "Write a program that calculates the average of a list of numbers that given as inputs from the user, excluding the first two values.\n",
        "\n",
        "For your program, you must define and use the following functions:\n",
        "- `getValues(n)`: Prompt the user for `n` values, returns the list\n",
        "- `calcAverage(alist)`: Calculates the average from the list"
      ],
      "metadata": {
        "id": "-RSYW1jVm08n"
      }
    },
    {
      "cell_type": "code",
      "execution_count": null,
      "metadata": {
        "id": "AqbgJkgNmvQw",
        "colab": {
          "base_uri": "https://localhost:8080/"
        },
        "outputId": "9362c306-566c-40a4-bc4e-8d174c270a6d"
      },
      "outputs": [
        {
          "output_type": "stream",
          "name": "stdout",
          "text": [
            "Enter number of weights: 5\n",
            "Enter a weight: 1\n",
            "Enter a weight: 2\n",
            "Enter a weight: 3\n",
            "Enter a weight: 4\n",
            "Enter a weight: 5\n",
            "4.0\n"
          ]
        }
      ],
      "source": [
        "def getValues(n):\n",
        "  weights = []\n",
        "  for i in range(n):\n",
        "    weight = float(input('Enter a weight: '))\n",
        "    weights.append(weight)\n",
        "  return weights[2:]\n",
        "\n",
        "def calcAverage(alist):\n",
        "  return sum(alist) / len(alist)\n",
        "\n",
        "n_weights = int(input('Enter number of weights: '))\n",
        "L = getValues(n_weights)\n",
        "avg = calcAverage(L)\n",
        "print(avg)"
      ]
    },
    {
      "cell_type": "markdown",
      "source": [
        "## Assignment 2: Country Statistics Lookup-Multiple Measures (6 points)\n",
        "\n",
        "Assume a program begins with the statement:\n",
        "\n",
        "```python\n",
        "allData = { # dictionary of values for countries\n",
        "    'US': {'pop':325.7, 'gdp': 19.39, 'ccy': 'USD', 'fx':  1.0},\n",
        "    'CA': {'pop': 36.5, 'gdp':  1.65, 'ccy': 'CAD', 'fx':  1.35},\n",
        "    'MX': {'pop':129.2, 'gdp':  1.15, 'ccy': 'MXN', 'fx': 19.68}\n",
        "    }\n",
        "```\n",
        "\n",
        "Write subsequent statements that (in a loop) prompt the user for a country code (`US`, `CA`, or `MX`), then prompt for a measure name (`pop`, `gdp`, `ccy`, or `fx`), then look up in the above dictionary for the corresponding value, and display it.\n",
        "\n",
        "Example run:\n",
        "```\n",
        "Please enter a country code: CA\n",
        "Please enter a statistic: pop\n",
        "CA pop = 36.5\n",
        "```\n",
        "\n",
        "Your program should handle the cases where a user-entered country code or measure name is not found."
      ],
      "metadata": {
        "id": "QFO0Kzx8ncnv"
      }
    },
    {
      "cell_type": "code",
      "source": [
        "allData = { # dictionary of values for countries\n",
        "    'US': {'pop':325.7, 'gdp': 19.39, 'ccy': 'USD', 'fx':  1.0},\n",
        "    'CA': {'pop': 36.5, 'gdp':  1.65, 'ccy': 'CAD', 'fx':  1.35},\n",
        "    'MX': {'pop':129.2, 'gdp':  1.15, 'ccy': 'MXN', 'fx': 19.68}\n",
        "    }\n",
        "\n",
        "while True:\n",
        "  d = allData\n",
        "\n",
        "  cc = input('Enter a country code (US,CA,MX, or exit to stop):')\n",
        "  if cc == 'exit':\n",
        "    break\n",
        "  if cc not in d.keys():\n",
        "    print('Not an available country')\n",
        "    continue\n",
        "\n",
        "  st = input('Enter a statistic (pop,gdp,ccy,fx):')\n",
        "  if st not in d[cc].keys():\n",
        "    print('Not an available statistic')\n",
        "    continue\n",
        "\n",
        "  if st == 'pop':\n",
        "    print(cc, 'population =', d[cc][st])\n",
        "  elif st == 'gdp':\n",
        "    print(cc, 'GDP =', d[cc][st])\n",
        "  elif st == 'ccy':\n",
        "    print(cc, 'currency =', d[cc][st])\n",
        "  elif st == 'fx':\n",
        "    print(cc, 'FX =', d[cc][st])\n",
        "\n"
      ],
      "metadata": {
        "id": "NZFjRINKowEW",
        "colab": {
          "base_uri": "https://localhost:8080/",
          "height": 0
        },
        "outputId": "f7d266d8-6a9b-44bd-f6f8-b607278807a3"
      },
      "execution_count": 8,
      "outputs": [
        {
          "name": "stdout",
          "output_type": "stream",
          "text": [
            "Enter a country code (US,CA,MX, or exit to stop):CA\n",
            "Enter a statistic (pop,gdp,ccy,fx):gdp\n",
            "CA GDP = 1.65\n",
            "Enter a country code (US,CA,MX, or exit to stop):CA\n",
            "Enter a statistic (pop,gdp,ccy,fx):fx\n",
            "CA FX = 1.35\n",
            "Enter a country code (US,CA,MX, or exit to stop):US\n",
            "Enter a statistic (pop,gdp,ccy,fx):pop\n",
            "US population = 325.7\n",
            "Enter a country code (US,CA,MX, or exit to stop):exit\n"
          ]
        }
      ]
    },
    {
      "cell_type": "markdown",
      "source": [
        "## Assignment 3: Parking Garage (6 points)\n",
        "\n",
        "Write a program to compute the fee for parking in a garage for a number of hours.\n",
        "\n",
        "The program should:\n",
        "- Prompt the user for how many hours parked\n",
        "- Calculate the fee based on the following rules:\n",
        "  - $2.50/hour\n",
        "\n",
        "  - minimum fee is $6.00\n",
        "\n",
        "  - maximum fee is $20.00\n",
        "- Print the result\n",
        "\n",
        "For your program, define and use the following two functions:\n",
        "```python\n",
        "# use input() to prompt for the # of hours parked, return this value\n",
        "def getParkingHours()\n",
        "\n",
        "# takes as input hours (a number), returns the parking fee\n",
        "def calcParkingFee()\n",
        "```"
      ],
      "metadata": {
        "id": "GjaUFrnfpKFf"
      }
    },
    {
      "cell_type": "code",
      "source": [
        "def getParkingHours():\n",
        "  hours = float(input('Number of hours parked: '))\n",
        "  return hours\n",
        "\n",
        "def calcParkingFee():\n",
        "  fee = getParkingHours()*2.50\n",
        "  if fee > 20:\n",
        "    print('Total fee = $20')\n",
        "  elif fee < 6:\n",
        "    print('Total fee = $6')\n",
        "  else:\n",
        "    print('Total fee = $',fee)\n",
        "\n",
        "calcParkingFee()"
      ],
      "metadata": {
        "id": "5ha4O3V5pwNN",
        "colab": {
          "base_uri": "https://localhost:8080/"
        },
        "outputId": "7ea93387-f021-471b-9364-1052ae285d88"
      },
      "execution_count": null,
      "outputs": [
        {
          "output_type": "stream",
          "name": "stdout",
          "text": [
            "Number of hours parked: 3\n",
            "Total fee = $ 7.5\n"
          ]
        }
      ]
    },
    {
      "cell_type": "markdown",
      "source": [
        "## Assignment 4: Tuition (6 points)\n",
        "\n",
        "A college charges tuition according to the following:\n",
        "- 12 or more credits: $20,000/semester\n",
        "\n",
        "- 1-11 credits: $1,200 + $1,700 per credit\n",
        "\n",
        "Write a program that prompts the user for a number of credits and determines and displays the tuition for the semester. As part of your program, define and use the following function:\n",
        "```python\n",
        "def calcTuition(credits)\n",
        "```\n",
        "The function returns the tuition for a given number of credits"
      ],
      "metadata": {
        "id": "gipBObe5qm-2"
      }
    },
    {
      "cell_type": "code",
      "source": [
        "def calcTuition():\n",
        "  credits = int(input('How many credits are you taking: '))\n",
        "  if credits >= 12:\n",
        "    print('Your tuition is 20,000')\n",
        "  elif credits >= 1:\n",
        "    tuition = (credits*1700)+1200\n",
        "    print('Your tuition is', tuition)\n",
        "  else:\n",
        "    print('Invalid number of credits')\n",
        "\n",
        "calcTuition()"
      ],
      "metadata": {
        "id": "BPcn9ywzrL8y",
        "colab": {
          "base_uri": "https://localhost:8080/",
          "height": 0
        },
        "outputId": "760da304-f79d-4da4-9a12-be977cf2b2be"
      },
      "execution_count": 15,
      "outputs": [
        {
          "output_type": "stream",
          "name": "stdout",
          "text": [
            "How many credits are you taking: 13\n",
            "Your tuition is 20,000\n"
          ]
        }
      ]
    }
  ]
}