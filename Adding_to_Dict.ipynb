{
  "nbformat": 4,
  "nbformat_minor": 0,
  "metadata": {
    "colab": {
      "provenance": [],
      "authorship_tag": "ABX9TyPnc7BYRqP4I/tDyN89MsyD",
      "include_colab_link": true
    },
    "kernelspec": {
      "name": "python3",
      "display_name": "Python 3"
    },
    "language_info": {
      "name": "python"
    }
  },
  "cells": [
    {
      "cell_type": "markdown",
      "metadata": {
        "id": "view-in-github",
        "colab_type": "text"
      },
      "source": [
        "<a href=\"https://colab.research.google.com/github/willcooper5/BTE-320/blob/main/Adding_to_Dict.ipynb\" target=\"_parent\"><img src=\"https://colab.research.google.com/assets/colab-badge.svg\" alt=\"Open In Colab\"/></a>"
      ]
    },
    {
      "cell_type": "code",
      "execution_count": 1,
      "metadata": {
        "id": "ILu2xUUifxoM"
      },
      "outputs": [],
      "source": [
        "grades = {\n",
        "    'Alice': 91,\n",
        "    'Bob': 88,\n",
        "    'Tracy': 93,\n",
        "    'Erik': 90\n",
        "}"
      ]
    },
    {
      "cell_type": "code",
      "source": [
        "for key in grades.key():\n",
        "  print(key)"
      ],
      "metadata": {
        "colab": {
          "base_uri": "https://localhost:8080/"
        },
        "id": "bEdF4ED9hgNS",
        "outputId": "3a9253c6-6941-4f07-c632-87697d3c0180"
      },
      "execution_count": 10,
      "outputs": [
        {
          "output_type": "stream",
          "name": "stdout",
          "text": [
            "Alice\n",
            "Bob\n",
            "Tracy\n",
            "Erik\n"
          ]
        }
      ]
    },
    {
      "cell_type": "code",
      "source": [
        "for value in grades.values():\n",
        "  print(value)"
      ],
      "metadata": {
        "colab": {
          "base_uri": "https://localhost:8080/"
        },
        "id": "0Ozg1yn1jEQe",
        "outputId": "7bd9f6a4-5043-4314-afa6-dd793ef3e340"
      },
      "execution_count": 7,
      "outputs": [
        {
          "output_type": "stream",
          "name": "stdout",
          "text": [
            "91\n",
            "88\n",
            "93\n",
            "90\n"
          ]
        }
      ]
    },
    {
      "cell_type": "code",
      "source": [
        "for key, value in grades.items():\n",
        "  print(key, value)"
      ],
      "metadata": {
        "colab": {
          "base_uri": "https://localhost:8080/"
        },
        "id": "YOdYzDAwjQuq",
        "outputId": "a3391e18-fb8b-49dc-d138-a072c88d0684"
      },
      "execution_count": 15,
      "outputs": [
        {
          "output_type": "stream",
          "name": "stdout",
          "text": [
            "Alice 91\n",
            "Bob 88\n",
            "Tracy 93\n",
            "Erik 90\n"
          ]
        }
      ]
    },
    {
      "cell_type": "code",
      "source": [
        "months = {1: \"January\", 2: \"February\", 3: \"March\"}\n",
        "\n",
        "print(f'The first month in a year is {months[1]}')"
      ],
      "metadata": {
        "colab": {
          "base_uri": "https://localhost:8080/"
        },
        "id": "WIhZ2GPnkux3",
        "outputId": "09fec116-98e3-4330-bda2-dbfcfbbe1756"
      },
      "execution_count": 20,
      "outputs": [
        {
          "output_type": "stream",
          "name": "stdout",
          "text": [
            "The first month in a year is January\n"
          ]
        }
      ]
    },
    {
      "cell_type": "code",
      "source": [
        "months = {}\n",
        "numbers = [1,2,3,4,5,6,7,8,9,10,11,12]\n",
        "names = ['Jan', 'Feb', 'Mar', 'Apr', 'May', 'Jun', 'Jul', 'Aug', 'Sep', 'Oct', 'Nov', 'Dec']\n",
        "\n",
        "for num in numbers:\n",
        "  months[num] = names[num - 1]\n",
        "\n",
        "print(months)"
      ],
      "metadata": {
        "colab": {
          "base_uri": "https://localhost:8080/"
        },
        "id": "qjp4pc6LlVtB",
        "outputId": "f57ae9b7-67f8-410a-b8ad-e3584dc5e815"
      },
      "execution_count": 64,
      "outputs": [
        {
          "output_type": "stream",
          "name": "stdout",
          "text": [
            "{1: 'Jan', 2: 'Feb', 3: 'Mar', 4: 'Apr', 5: 'May', 6: 'Jun', 7: 'Jul', 8: 'Aug', 9: 'Sep', 10: 'Oct', 11: 'Nov', 12: 'Dec'}\n"
          ]
        }
      ]
    }
  ]
}