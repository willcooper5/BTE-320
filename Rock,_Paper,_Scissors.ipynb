{
  "cells": [
    {
      "cell_type": "markdown",
      "metadata": {
        "id": "view-in-github",
        "colab_type": "text"
      },
      "source": [
        "<a href=\"https://colab.research.google.com/github/willcooper5/BTE-320/blob/main/Rock%2C_Paper%2C_Scissors.ipynb\" target=\"_parent\"><img src=\"https://colab.research.google.com/assets/colab-badge.svg\" alt=\"Open In Colab\"/></a>"
      ]
    },
    {
      "cell_type": "code",
      "execution_count": null,
      "metadata": {
        "colab": {
          "base_uri": "https://localhost:8080/"
        },
        "id": "wkkqGoeF2gGG",
        "outputId": "b5e614fb-6d98-496b-fed4-ced2c9c53374"
      },
      "outputs": [
        {
          "name": "stdout",
          "output_type": "stream",
          "text": [
            "Enter rock, paper, or scissors: rock\n",
            "PC Choice: rock\n",
            "Tie\n"
          ]
        }
      ],
      "source": [
        "from pathlib import WindowsPath\n",
        "import random\n",
        "pc_choice = random.choice(['rock','paper','scissors'])\n",
        "user_choice = input('Enter rock, paper, or scissors: ')\n",
        "print('PC Choice:', pc_choice)\n",
        "if pc_choice == 'rock' and user_choice == 'rock':\n",
        "  print('Tie')\n",
        "if pc_choice == 'rock' and user_choice == 'paper':\n",
        "  print('User wins')\n",
        "if pc_choice == 'rock' and user_choice == 'scissors':\n",
        "  print('PC wins')\n",
        "if pc_choice == 'paper' and user_choice == 'rock':\n",
        "  print('PC wins')\n",
        "if pc_choice == 'paper' and user_choice == 'paper':\n",
        "  print('Tie')\n",
        "if pc_choice == 'paper' and user_choice == 'scissors':\n",
        "  print('User wins')\n",
        "if pc_choice == 'scissors' and user_choice == 'rock':\n",
        "  print('User wins')\n",
        "if pc_choice == 'scissors' and user_choice == 'paper':\n",
        "  print('PC wins')\n",
        "if pc_choice == 'scissors' and user_choice == 'scissors':\n",
        "  print('Tie')"
      ]
    },
    {
      "cell_type": "code",
      "execution_count": null,
      "metadata": {
        "colab": {
          "base_uri": "https://localhost:8080/"
        },
        "id": "t3-c_4Ty7bJA",
        "outputId": "b31cf063-2f76-41cf-e4f5-10c70d6b8b61"
      },
      "outputs": [
        {
          "name": "stdout",
          "output_type": "stream",
          "text": [
            "Enter rock, paper, or scissors: rock\n",
            "PC Choice: scissors\n",
            "User Wins\n"
          ]
        }
      ],
      "source": [
        "import random\n",
        "pc_choice = random.choice(['rock','paper','scissors'])\n",
        "user_choice = input('Enter rock, paper, or scissors: ')\n",
        "print('PC Choice:', pc_choice)\n",
        "if pc_choice == user_choice:\n",
        "  print('Tie')\n",
        "elif pc_choice == 'paper' and user_choice == 'scissors' or pc_choice == 'scissors' and user_choice == 'rock' or pc_choice == 'rock' or user_choice == 'paper':\n",
        "  print('User Wins')\n",
        "else:\n",
        "  print('PC Wins')"
      ]
    },
    {
      "cell_type": "code",
      "execution_count": null,
      "metadata": {
        "colab": {
          "background_save": true,
          "base_uri": "https://localhost:8080/"
        },
        "id": "XqgbDmxv9eyB",
        "outputId": "415936b8-9bc1-456a-c132-e1328113d719"
      },
      "outputs": [
        {
          "name": "stdout",
          "output_type": "stream",
          "text": [
            "PC Choice: paper\n",
            "Tie\n"
          ]
        }
      ],
      "source": [
        "import random\n",
        "\n",
        "user_input = input('Do you want to play a game? (y/n): ')\n",
        "while user_input == 'y':\n",
        "  pc_choice = random.choice(['rock','paper','scissors'])\n",
        "  user_choice = input('Enter rock, paper, or scissors: ')\n",
        "  print('PC Choice:', pc_choice)\n",
        "  if pc_choice == user_choice:\n",
        "    print('Tie')\n",
        "  elif pc_choice == 'paper' and user_choice == 'scissors' or pc_choice == 'scissors' and user_choice == 'rock' or pc_choice == 'rock' or user_choice == 'paper':\n",
        "    print('User Wins')\n",
        "  else:\n",
        "    print('PC Wins')\n",
        "  user_input = input('Do you want to play again? (y/n): ')\n"
      ]
    }
  ],
  "metadata": {
    "colab": {
      "provenance": [],
      "authorship_tag": "ABX9TyNyqvx1KsZTm7SwyXzT8sER",
      "include_colab_link": true
    },
    "kernelspec": {
      "display_name": "Python 3",
      "name": "python3"
    },
    "language_info": {
      "name": "python"
    }
  },
  "nbformat": 4,
  "nbformat_minor": 0
}